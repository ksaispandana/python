{
 "cells": [
  {
   "cell_type": "markdown",
   "id": "47923009",
   "metadata": {},
   "source": [
    "### Numpy: Package for Multidimesional array (Numerical Python transformation using python)"
   ]
  },
  {
   "cell_type": "markdown",
   "id": "4dd0d320",
   "metadata": {},
   "source": [
    "### Vector(1d)"
   ]
  },
  {
   "cell_type": "markdown",
   "id": "7c53aa3e",
   "metadata": {},
   "source": [
    "### Matrix(2d or 1d)"
   ]
  },
  {
   "cell_type": "code",
   "execution_count": 3,
   "id": "d97cf567",
   "metadata": {},
   "outputs": [],
   "source": [
    "import numpy as np"
   ]
  },
  {
   "cell_type": "code",
   "execution_count": null,
   "id": "545c9228",
   "metadata": {},
   "outputs": [],
   "source": [
    "example_list= [1,2,3,4,5,6]\n",
    "example_array = np.array(example_list)\n",
    "example_array"
   ]
  },
  {
   "cell_type": "markdown",
   "id": "a14cedc0",
   "metadata": {},
   "source": [
    "### 2d/3d"
   ]
  },
  {
   "cell_type": "code",
   "execution_count": 12,
   "id": "28d4407f",
   "metadata": {},
   "outputs": [],
   "source": [
    "twod_array= np.array(([0,9,8,7,6],[5,4,3,2,1]))\n",
    "threed_array= np.array(([0,9,8,7,6],[5,4,3,2,1],[0,9,3,2,1]))\n"
   ]
  },
  {
   "cell_type": "markdown",
   "id": "91fff994",
   "metadata": {},
   "source": [
    "### Arange(n,k) ->   numbers from n to k-1 with equal difference of 1\n",
    "\n",
    "\n",
    "\n"
   ]
  },
  {
   "cell_type": "code",
   "execution_count": null,
   "id": "15f9b043",
   "metadata": {},
   "outputs": [],
   "source": [
    "np.arange(2,100)"
   ]
  },
  {
   "cell_type": "markdown",
   "id": "b9c686c0",
   "metadata": {},
   "source": [
    "### Arange(n,k,m) ->   numbers from n to k-1 with equal difference of m\n"
   ]
  },
  {
   "cell_type": "code",
   "execution_count": null,
   "id": "e4b1fc29",
   "metadata": {},
   "outputs": [],
   "source": [
    "np.arange(2,100,5)"
   ]
  },
  {
   "cell_type": "markdown",
   "id": "bc52da2b",
   "metadata": {},
   "source": [
    "### Zeros --> results in all zeros"
   ]
  },
  {
   "cell_type": "code",
   "execution_count": null,
   "id": "22ccfa62",
   "metadata": {},
   "outputs": [],
   "source": [
    "np.zeros(5)"
   ]
  },
  {
   "cell_type": "markdown",
   "id": "34ef7d48",
   "metadata": {},
   "source": [
    "### Zeros(5,dtype=int) --> results in all zeros as int"
   ]
  },
  {
   "cell_type": "code",
   "execution_count": null,
   "id": "3946f2f2",
   "metadata": {},
   "outputs": [],
   "source": [
    "np.zeros(5,dtype=int)"
   ]
  },
  {
   "cell_type": "markdown",
   "id": "021338e9",
   "metadata": {},
   "source": [
    "### Ones --> results in all ones"
   ]
  },
  {
   "cell_type": "code",
   "execution_count": null,
   "id": "161a3467",
   "metadata": {},
   "outputs": [],
   "source": [
    "np.ones(5)"
   ]
  },
  {
   "cell_type": "markdown",
   "id": "e26501ba",
   "metadata": {},
   "source": [
    "### Ones(5,dtype=int) --> results in all ones and integers"
   ]
  },
  {
   "cell_type": "code",
   "execution_count": null,
   "id": "d244bc8a",
   "metadata": {},
   "outputs": [],
   "source": [
    "np.ones(5,dtype=int)"
   ]
  },
  {
   "cell_type": "markdown",
   "id": "3375276a",
   "metadata": {},
   "source": [
    "### Ones((5,2),dtype=int) --> results in all ones and integers , 5 rows 2 columns matrix\n"
   ]
  },
  {
   "cell_type": "code",
   "execution_count": null,
   "id": "c3f9bb68",
   "metadata": {},
   "outputs": [],
   "source": [
    "np.ones((5,2),dtype=int)"
   ]
  },
  {
   "cell_type": "markdown",
   "id": "e3a4be77",
   "metadata": {},
   "source": [
    "### linspace(a,b,c) -->  from a to < b , into c parts , in float"
   ]
  },
  {
   "cell_type": "code",
   "execution_count": null,
   "id": "155e71d6",
   "metadata": {},
   "outputs": [],
   "source": [
    "np.linspace(1,5,4)"
   ]
  },
  {
   "cell_type": "markdown",
   "id": "adc2b013",
   "metadata": {},
   "source": [
    "### linspace(a,b,c) -->  from a to < b , into c parts , in int"
   ]
  },
  {
   "cell_type": "code",
   "execution_count": null,
   "id": "945bb38e",
   "metadata": {},
   "outputs": [],
   "source": [
    "np.linspace(1,5,4,dtype=int)"
   ]
  },
  {
   "cell_type": "markdown",
   "id": "eec22ed3",
   "metadata": {},
   "source": [
    "### eye(a,b)  --> Identity Matrix with a rows and b columns  , dtype can be used to int "
   ]
  },
  {
   "cell_type": "code",
   "execution_count": null,
   "id": "83583145",
   "metadata": {},
   "outputs": [],
   "source": [
    "np.eye(2,3)"
   ]
  },
  {
   "cell_type": "markdown",
   "id": "fc739f14",
   "metadata": {},
   "source": [
    "### np.random.rand(3) --> random value from 0 to 1 , with 3 columns , similary randn for negative values\n",
    "###  randint(1,3)  --> random integer from 1 to 3 for integers  , randint(1,10,3)  random 3 from 1 to 10"
   ]
  },
  {
   "cell_type": "code",
   "execution_count": null,
   "id": "dfdfafcb",
   "metadata": {},
   "outputs": [],
   "source": [
    "np.random.rand(2,3)"
   ]
  },
  {
   "cell_type": "code",
   "execution_count": null,
   "id": "0480f560",
   "metadata": {},
   "outputs": [],
   "source": [
    "np.random.randn(2,3)"
   ]
  },
  {
   "cell_type": "code",
   "execution_count": null,
   "id": "78f39bca",
   "metadata": {},
   "outputs": [],
   "source": [
    "np.random.randint(10,100,15)"
   ]
  },
  {
   "cell_type": "markdown",
   "id": "05da7d6a",
   "metadata": {},
   "source": [
    "### array.min() --> for min of array , array.max() --> for max of array , array.argmin() --> index where min is in the array"
   ]
  },
  {
   "cell_type": "code",
   "execution_count": null,
   "id": "b5ac1eb0",
   "metadata": {},
   "outputs": [],
   "source": [
    "example_array.min()"
   ]
  },
  {
   "cell_type": "code",
   "execution_count": null,
   "id": "44014dda",
   "metadata": {},
   "outputs": [],
   "source": [
    "example_array.argmax()"
   ]
  },
  {
   "cell_type": "code",
   "execution_count": null,
   "id": "93bd7335",
   "metadata": {},
   "outputs": [],
   "source": [
    "example_array.argmin()"
   ]
  },
  {
   "cell_type": "code",
   "execution_count": null,
   "id": "2d324acc",
   "metadata": {},
   "outputs": [],
   "source": [
    "example_array.dtype"
   ]
  },
  {
   "cell_type": "code",
   "execution_count": 8,
   "id": "6840d262",
   "metadata": {},
   "outputs": [],
   "source": [
    "array_required = np.array((1,2,3,4,5,6,7,8,9,0))"
   ]
  },
  {
   "cell_type": "code",
   "execution_count": 9,
   "id": "bb82bdf8",
   "metadata": {},
   "outputs": [],
   "source": [
    "array_required[1:4]= 0"
   ]
  },
  {
   "cell_type": "code",
   "execution_count": 10,
   "id": "d2041118",
   "metadata": {},
   "outputs": [
    {
     "data": {
      "text/plain": [
       "array([1, 0, 0, 0, 5, 6, 7, 8, 9, 0])"
      ]
     },
     "execution_count": 10,
     "metadata": {},
     "output_type": "execute_result"
    }
   ],
   "source": [
    "array_required"
   ]
  },
  {
   "cell_type": "code",
   "execution_count": 13,
   "id": "e2f5f785",
   "metadata": {},
   "outputs": [
    {
     "data": {
      "text/plain": [
       "array([[0, 9, 8, 7, 6],\n",
       "       [5, 4, 3, 2, 1],\n",
       "       [0, 9, 3, 2, 1]])"
      ]
     },
     "execution_count": 13,
     "metadata": {},
     "output_type": "execute_result"
    }
   ],
   "source": [
    "threed_array"
   ]
  },
  {
   "cell_type": "code",
   "execution_count": 32,
   "id": "383a2fb1",
   "metadata": {},
   "outputs": [
    {
     "data": {
      "text/plain": [
       "array([[4, 3],\n",
       "       [9, 3]])"
      ]
     },
     "execution_count": 32,
     "metadata": {},
     "output_type": "execute_result"
    }
   ],
   "source": [
    "threed_array[1:3,1:3]"
   ]
  },
  {
   "cell_type": "code",
   "execution_count": null,
   "id": "96af2606",
   "metadata": {},
   "outputs": [],
   "source": []
  },
  {
   "cell_type": "code",
   "execution_count": null,
   "id": "ad2487d5",
   "metadata": {},
   "outputs": [],
   "source": []
  }
 ],
 "metadata": {
  "kernelspec": {
   "display_name": "Python 3",
   "language": "python",
   "name": "python3"
  },
  "language_info": {
   "codemirror_mode": {
    "name": "ipython",
    "version": 3
   },
   "file_extension": ".py",
   "mimetype": "text/x-python",
   "name": "python",
   "nbconvert_exporter": "python",
   "pygments_lexer": "ipython3",
   "version": "3.8.8"
  }
 },
 "nbformat": 4,
 "nbformat_minor": 5
}
