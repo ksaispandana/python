{
 "cells": [
  {
   "cell_type": "code",
   "execution_count": 69,
   "id": "00beb434",
   "metadata": {},
   "outputs": [],
   "source": [
    "simple_list=[1,4,5.5,7,3,6.9]"
   ]
  },
  {
   "cell_type": "code",
   "execution_count": 70,
   "id": "9d996d24",
   "metadata": {},
   "outputs": [
    {
     "data": {
      "text/plain": [
       "6"
      ]
     },
     "execution_count": 70,
     "metadata": {},
     "output_type": "execute_result"
    }
   ],
   "source": [
    "len(simple_list)"
   ]
  },
  {
   "cell_type": "code",
   "execution_count": 71,
   "id": "2a5f963c",
   "metadata": {},
   "outputs": [
    {
     "data": {
      "text/plain": [
       "7"
      ]
     },
     "execution_count": 71,
     "metadata": {},
     "output_type": "execute_result"
    }
   ],
   "source": [
    "max(simple_list)"
   ]
  },
  {
   "cell_type": "code",
   "execution_count": 72,
   "id": "54b0889e",
   "metadata": {},
   "outputs": [
    {
     "data": {
      "text/plain": [
       "1"
      ]
     },
     "execution_count": 72,
     "metadata": {},
     "output_type": "execute_result"
    }
   ],
   "source": [
    "min(simple_list)"
   ]
  },
  {
   "cell_type": "code",
   "execution_count": 73,
   "id": "e575bd34",
   "metadata": {},
   "outputs": [],
   "source": [
    "simple_list.append(7)"
   ]
  },
  {
   "cell_type": "code",
   "execution_count": 74,
   "id": "0bdcbdb4",
   "metadata": {},
   "outputs": [],
   "source": [
    "simple_list2=simple_list"
   ]
  },
  {
   "cell_type": "code",
   "execution_count": 75,
   "id": "45b0a0bc",
   "metadata": {},
   "outputs": [
    {
     "data": {
      "text/plain": [
       "1"
      ]
     },
     "execution_count": 75,
     "metadata": {},
     "output_type": "execute_result"
    }
   ],
   "source": [
    "simple_list.index(4)"
   ]
  },
  {
   "cell_type": "code",
   "execution_count": 76,
   "id": "861915bc",
   "metadata": {},
   "outputs": [],
   "source": [
    "simple_list.insert(3,2)"
   ]
  },
  {
   "cell_type": "code",
   "execution_count": 77,
   "id": "b2461179",
   "metadata": {},
   "outputs": [
    {
     "data": {
      "text/plain": [
       "[1, 4, 5.5, 2, 7, 3, 6.9, 7]"
      ]
     },
     "execution_count": 77,
     "metadata": {},
     "output_type": "execute_result"
    }
   ],
   "source": [
    "simple_list"
   ]
  },
  {
   "cell_type": "code",
   "execution_count": 78,
   "id": "536b401d",
   "metadata": {},
   "outputs": [],
   "source": [
    "simple_list.remove(7)"
   ]
  },
  {
   "cell_type": "code",
   "execution_count": 79,
   "id": "cc901589",
   "metadata": {},
   "outputs": [
    {
     "data": {
      "text/plain": [
       "[1, 4, 5.5, 2, 3, 6.9, 7]"
      ]
     },
     "execution_count": 79,
     "metadata": {},
     "output_type": "execute_result"
    }
   ],
   "source": [
    "simple_list"
   ]
  },
  {
   "cell_type": "code",
   "execution_count": 80,
   "id": "3fdbcb1e",
   "metadata": {},
   "outputs": [
    {
     "data": {
      "text/plain": [
       "[7, 6.9, 3, 2, 5.5, 4, 1]"
      ]
     },
     "execution_count": 80,
     "metadata": {},
     "output_type": "execute_result"
    }
   ],
   "source": [
    "simple_list.reverse()\n",
    "simple_list"
   ]
  },
  {
   "cell_type": "code",
   "execution_count": 81,
   "id": "3b8e2c18",
   "metadata": {},
   "outputs": [
    {
     "data": {
      "text/plain": [
       "[1, 2, 3, 4, 5.5, 6.9, 7]"
      ]
     },
     "execution_count": 81,
     "metadata": {},
     "output_type": "execute_result"
    }
   ],
   "source": [
    "simple_list.sort()\n",
    "simple_list"
   ]
  },
  {
   "cell_type": "code",
   "execution_count": 90,
   "id": "70a9b8ed",
   "metadata": {},
   "outputs": [],
   "source": [
    "simple_list.clear()"
   ]
  },
  {
   "cell_type": "code",
   "execution_count": 91,
   "id": "1b0130f1",
   "metadata": {},
   "outputs": [
    {
     "data": {
      "text/plain": [
       "[]"
      ]
     },
     "execution_count": 91,
     "metadata": {},
     "output_type": "execute_result"
    }
   ],
   "source": [
    "simple_list"
   ]
  },
  {
   "cell_type": "code",
   "execution_count": null,
   "id": "9794c659",
   "metadata": {},
   "outputs": [],
   "source": []
  }
 ],
 "metadata": {
  "kernelspec": {
   "display_name": "Python 3",
   "language": "python",
   "name": "python3"
  },
  "language_info": {
   "codemirror_mode": {
    "name": "ipython",
    "version": 3
   },
   "file_extension": ".py",
   "mimetype": "text/x-python",
   "name": "python",
   "nbconvert_exporter": "python",
   "pygments_lexer": "ipython3",
   "version": "3.8.8"
  }
 },
 "nbformat": 4,
 "nbformat_minor": 5
}
